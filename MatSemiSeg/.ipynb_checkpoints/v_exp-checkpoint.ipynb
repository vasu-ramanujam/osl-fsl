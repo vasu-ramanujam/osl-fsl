{
 "cells": [
  {
   "cell_type": "markdown",
   "id": "bd7a7321",
   "metadata": {},
   "source": [
    "# Recreation of OSL and FSL experiments \n",
    "(from Bo's [thesis](https://www.dropbox.com/s/h42daq4d367nifv/Data-Driven_Image_Segmentation.pdf?dl=0))\n",
    "\n",
    "Code downloaded from the MatSemiSeg folder in the linked [GitHub page](https://github.com/lei-bo/MatSemiSeg/tree/main)\n"
   ]
  },
  {
   "cell_type": "code",
   "execution_count": null,
   "id": "69c253d3",
   "metadata": {},
   "outputs": [],
   "source": []
  }
 ],
 "metadata": {
  "kernelspec": {
   "display_name": "Python 3 (ipykernel)",
   "language": "python",
   "name": "python3"
  },
  "language_info": {
   "codemirror_mode": {
    "name": "ipython",
    "version": 3
   },
   "file_extension": ".py",
   "mimetype": "text/x-python",
   "name": "python",
   "nbconvert_exporter": "python",
   "pygments_lexer": "ipython3",
   "version": "3.9.12"
  }
 },
 "nbformat": 4,
 "nbformat_minor": 5
}
