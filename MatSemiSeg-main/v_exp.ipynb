{
 "cells": [
  {
   "cell_type": "markdown",
   "id": "bd7a7321",
   "metadata": {},
   "source": [
    "# Recreation of OSL and FSL experiments \n",
    "(from Bo's [thesis](https://www.dropbox.com/s/h42daq4d367nifv/Data-Driven_Image_Segmentation.pdf?dl=0))\n",
    "\n",
    "Code downloaded from the MatSemiSeg folder in the linked [GitHub page](https://github.com/lei-bo/MatSemiSeg/tree/main)\n",
    "\n",
    "\n",
    "what he did:\n",
    "training details:\n",
    "- randomly cropped 224x224\n",
    "- batch size 4, training iter 4800\n",
    "- AdamW optimizer with weight decay of 0.01\n",
    "- ILR_e = 5e-5, ILR_d = 5e-4\n",
    "- LR decay: 3200 iter, factor of 10\n",
    "...\n",
    ">the model with the best validation mean IoU (mIoU) across all classes is saved and its performances on test images are reported. Since the sizes of both datasets are small, we conduct cross-validation to give a better estimation of model performance with the consideration of data partition variations.\n",
    "\n",
    "CV info:\n",
    "- Monte Carlo CV with 10 experiments (16/4/4) for UHCS\n",
    "\n",
    "\n",
    "THREE EXPERIMENTS\n",
    "1. fully supervised--use all training images and aforementioned CV scheme\n",
    "2. OSL - UHCS\n",
    "3. FSL (random + AMRD)\n"
   ]
  },
  {
   "cell_type": "markdown",
   "id": "c747b820",
   "metadata": {},
   "source": [
    "## Experiment One -- Fully Supervised Learning in UHCS\n",
    "\n",
    "insert description / notes here"
   ]
  },
  {
   "cell_type": "code",
   "execution_count": 1,
   "id": "7794aacc",
   "metadata": {},
   "outputs": [
    {
     "name": "stdout",
     "output_type": "stream",
     "text": [
      "Traceback (most recent call last):\r\n",
      "  File \"/Users/vasudha/opt/anaconda3/lib/python3.9/runpy.py\", line 197, in _run_module_as_main\r\n",
      "    return _run_code(code, main_globals, None,\r\n",
      "  File \"/Users/vasudha/opt/anaconda3/lib/python3.9/runpy.py\", line 87, in _run_code\r\n",
      "    exec(code, run_globals)\r\n",
      "  File \"/Users/vasudha/Desktop/school/cv_mse_summer_23/MatSemiSeg-main/segmentation/train.py\", line 5, in <module>\r\n",
      "    from .datasets import get_dataloaders\r\n",
      "  File \"/Users/vasudha/Desktop/school/cv_mse_summer_23/MatSemiSeg-main/segmentation/datasets.py\", line 9, in <module>\r\n",
      "    import albumentations as A\r\n",
      "ModuleNotFoundError: No module named 'albumentations'\r\n"
     ]
    }
   ],
   "source": [
    "#train a segmentation model using fully supervised setting\n",
    "!python -m segmentation.train --config full_sup.yaml"
   ]
  },
  {
   "cell_type": "code",
   "execution_count": null,
   "id": "259a94b3",
   "metadata": {},
   "outputs": [],
   "source": []
  }
 ],
 "metadata": {
  "kernelspec": {
   "display_name": "Python 3 (ipykernel)",
   "language": "python",
   "name": "python3"
  },
  "language_info": {
   "codemirror_mode": {
    "name": "ipython",
    "version": 3
   },
   "file_extension": ".py",
   "mimetype": "text/x-python",
   "name": "python",
   "nbconvert_exporter": "python",
   "pygments_lexer": "ipython3",
   "version": "3.9.12"
  }
 },
 "nbformat": 4,
 "nbformat_minor": 5
}
